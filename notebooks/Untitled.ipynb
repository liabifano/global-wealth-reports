{
 "cells": [
  {
   "cell_type": "code",
   "execution_count": 1,
   "metadata": {},
   "outputs": [],
   "source": [
    "import requests\n",
    "import pdfquery"
   ]
  },
  {
   "cell_type": "code",
   "execution_count": 2,
   "metadata": {},
   "outputs": [],
   "source": [
    "PREFIX_PATH = 'https://www.credit-suisse.com/media/assets/corporate/docs/about-us/research/publications/global-wealth-databook-{}.pdf'\n",
    "YEARS = [2019, 2018, 2017, 2016, 2015, 2014, 2013, 2012, 2011, 2010]\n",
    "\n",
    "PATHS = [PREFIX_PATH.format(x) for x in YEARS]"
   ]
  },
  {
   "cell_type": "code",
   "execution_count": 4,
   "metadata": {},
   "outputs": [
    {
     "data": {
      "text/plain": [
       "('../reports/report_2019.pdf', <http.client.HTTPMessage at 0x104d99710>)"
      ]
     },
     "execution_count": 4,
     "metadata": {},
     "output_type": "execute_result"
    }
   ],
   "source": [
    "# url = PATHS[0]\n",
    "# response = requests.get(url)\n",
    "import urllib\n",
    "\n",
    "urllib.request.urlretrieve(PATHS[0], '../reports/report_2019.pdf')"
   ]
  },
  {
   "cell_type": "code",
   "execution_count": 5,
   "metadata": {},
   "outputs": [],
   "source": [
    "pdf = pdfquery.PDFQuery('../reports/report_2019.pdf')"
   ]
  },
  {
   "cell_type": "code",
   "execution_count": 6,
   "metadata": {},
   "outputs": [
    {
     "data": {
      "text/plain": [
       "['__class__',\n",
       " '__delattr__',\n",
       " '__dict__',\n",
       " '__dir__',\n",
       " '__doc__',\n",
       " '__eq__',\n",
       " '__format__',\n",
       " '__ge__',\n",
       " '__getattribute__',\n",
       " '__gt__',\n",
       " '__hash__',\n",
       " '__init__',\n",
       " '__init_subclass__',\n",
       " '__le__',\n",
       " '__lt__',\n",
       " '__module__',\n",
       " '__ne__',\n",
       " '__new__',\n",
       " '__reduce__',\n",
       " '__reduce_ex__',\n",
       " '__repr__',\n",
       " '__setattr__',\n",
       " '__sizeof__',\n",
       " '__str__',\n",
       " '__subclasshook__',\n",
       " '__weakref__',\n",
       " '_add_annots',\n",
       " '_cached_pages',\n",
       " '_clean_text',\n",
       " '_elements',\n",
       " '_filter_value',\n",
       " '_getattrs',\n",
       " '_pages',\n",
       " '_pages_iter',\n",
       " '_parse_tree_cacher',\n",
       " '_set_hwxy_attrs',\n",
       " '_xmlize',\n",
       " 'device',\n",
       " 'doc',\n",
       " 'extract',\n",
       " 'file',\n",
       " 'get_layout',\n",
       " 'get_layouts',\n",
       " 'get_page',\n",
       " 'get_pyquery',\n",
       " 'get_tree',\n",
       " 'input_text_formatter',\n",
       " 'interpreter',\n",
       " 'load',\n",
       " 'merge_tags',\n",
       " 'parser',\n",
       " 'pq',\n",
       " 'resort',\n",
       " 'round_digits',\n",
       " 'round_floats',\n",
       " 'tree']"
      ]
     },
     "execution_count": 6,
     "metadata": {},
     "output_type": "execute_result"
    }
   ],
   "source": [
    "dir(pdf)"
   ]
  },
  {
   "cell_type": "code",
   "execution_count": null,
   "metadata": {},
   "outputs": [],
   "source": []
  }
 ],
 "metadata": {
  "kernelspec": {
   "display_name": "Python 3",
   "language": "python",
   "name": "python3"
  },
  "language_info": {
   "codemirror_mode": {
    "name": "ipython",
    "version": 3
   },
   "file_extension": ".py",
   "mimetype": "text/x-python",
   "name": "python",
   "nbconvert_exporter": "python",
   "pygments_lexer": "ipython3",
   "version": "3.7.0"
  }
 },
 "nbformat": 4,
 "nbformat_minor": 2
}
